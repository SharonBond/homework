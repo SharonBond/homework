{
 "cells": [
  {
   "cell_type": "markdown",
   "metadata": {},
   "source": [
    "# Arithmetic mean"
   ]
  },
  {
   "cell_type": "markdown",
   "metadata": {},
   "source": [
    "the average of a set of numerical values, calculated by adding them together and dividing by the number of terms in the set.\n",
    "Adding numbers together "
   ]
  },
  {
   "cell_type": "code",
   "execution_count": 3,
   "metadata": {},
   "outputs": [
    {
     "data": {
      "text/plain": [
       "price                357.102289\n",
       "minimum_nights         2.263948\n",
       "number_of_reviews     14.453505\n",
       "reviews_per_month      0.538088\n",
       "dtype: float64"
      ]
     },
     "execution_count": 3,
     "metadata": {},
     "output_type": "execute_result"
    }
   ],
   "source": [
    "import pandas as pd\n",
    "belize_listing_path = \"belize_airbnb_listings.csv\"\n",
    "belize_df = pd.read_csv(belize_listing_path)\n",
    "belize_df.head()\n",
    "belize_df[[\"price\", \"minimum_nights\", \"number_of_reviews\", \"reviews_per_month\"  ]].mean()\n"
   ]
  },
  {
   "cell_type": "code",
   "execution_count": null,
   "metadata": {},
   "outputs": [],
   "source": []
  },
  {
   "cell_type": "code",
   "execution_count": null,
   "metadata": {},
   "outputs": [],
   "source": []
  },
  {
   "cell_type": "code",
   "execution_count": null,
   "metadata": {},
   "outputs": [],
   "source": []
  },
  {
   "cell_type": "markdown",
   "metadata": {},
   "source": [
    "# Geometric Mean"
   ]
  },
  {
   "cell_type": "markdown",
   "metadata": {},
   "source": [
    "In mathematics, the geometric mean is a mean or average, which indicates the central tendency or typical value of a \n",
    "set of numbers by using the product of their values (as opposed to the arithmetic mean which uses their sum).\n",
    "Multiplying numbers together \n",
    "\n",
    "nth root (where n is the number of numbers) of the product of each number multiplied (abc...n)"
   ]
  },
  {
   "cell_type": "code",
   "execution_count": 12,
   "metadata": {},
   "outputs": [
    {
     "data": {
      "text/plain": [
       "234.7347175108817"
      ]
     },
     "execution_count": 12,
     "metadata": {},
     "output_type": "execute_result"
    }
   ],
   "source": [
    "import numpy as np\n",
    "from scipy import stats\n",
    "\n",
    "\n",
    "stats.gmean(belize_df[\"price\"])\n"
   ]
  },
  {
   "cell_type": "markdown",
   "metadata": {},
   "source": [
    "# Harmonic Mean\n"
   ]
  },
  {
   "cell_type": "markdown",
   "metadata": {},
   "source": [
    "The harmonic mean is a type of numerical average. It is calculated by dividing the number of observations by the reciprocal of each number in the series. \n",
    "Thus, the harmonic mean is the reciprocal of the arithmetic mean of the reciprocals.\n",
    "\n",
    "the reciprocal of the average of the reciprocals\n",
    "reciprocal of n is 1/n\n",
    "\n",
    "every value gets an equal weight\n",
    "investopidia has good resources\n",
    "\n",
    "https://www.investopedia.com/terms/h/harmonicaverage.asp\n",
    "\n",
    "https://www.mathsisfun.com/numbers/harmonic-mean.html\n",
    "\n"
   ]
  },
  {
   "cell_type": "code",
   "execution_count": 11,
   "metadata": {},
   "outputs": [
    {
     "data": {
      "text/plain": [
       "170.99338501026463"
      ]
     },
     "execution_count": 11,
     "metadata": {},
     "output_type": "execute_result"
    }
   ],
   "source": [
    "stats.hmean(belize_df[\"price\"])"
   ]
  }
 ],
 "metadata": {
  "kernelspec": {
   "display_name": "Python 3",
   "language": "python",
   "name": "python3"
  },
  "language_info": {
   "codemirror_mode": {
    "name": "ipython",
    "version": 3
   },
   "file_extension": ".py",
   "mimetype": "text/x-python",
   "name": "python",
   "nbconvert_exporter": "python",
   "pygments_lexer": "ipython3",
   "version": "3.8.5"
  }
 },
 "nbformat": 4,
 "nbformat_minor": 4
}
