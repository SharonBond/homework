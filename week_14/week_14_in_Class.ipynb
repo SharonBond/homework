{
 "cells": [
  {
   "cell_type": "code",
   "execution_count": 1,
   "metadata": {},
   "outputs": [],
   "source": [
    "import numpy as np\n",
    "import pandas as pd\n",
    "import matplotlib.pyplot as plt\n",
    "import seaborn as sns\n",
    "import sklearn\n",
    "import warnings\n",
    "warnings.filterwarnings('ignore')\n",
    "from sklearn.linear_model import LinearRegression\n",
    "from sklearn.feature_selection import RFE\n",
    "from sklearn.svm import SVC\n"
   ]
  },
  {
   "cell_type": "code",
   "execution_count": 2,
   "metadata": {},
   "outputs": [],
   "source": [
    "crime_df = pd.read_csv(\"crime_data.csv\")"
   ]
  },
  {
   "cell_type": "markdown",
   "metadata": {},
   "source": [
    "1.Using the documentation for Recursive Feature Selection,apply this process to the crime dataset to create the best modelhttps://scikit-learn.org/stable/modules/generated/sklearn.feature_selection.RFE.html.Since this dataset is so small, you do not need to perform a train-test split. You can select what you’re trying to predict. Be sure to explain what RFE is in the markdown."
   ]
  },
  {
   "cell_type": "markdown",
   "metadata": {},
   "source": [
    "RFE is a popular feature selection algorithm. It selects features by recursively considering smaller and smaller sets of features. "
   ]
  },
  {
   "cell_type": "code",
   "execution_count": 3,
   "metadata": {},
   "outputs": [
    {
     "name": "stdout",
     "output_type": "stream",
     "text": [
      "[ True  True]\n",
      "[1 1]\n"
     ]
    }
   ],
   "source": [
    "\n",
    "\n",
    "X = crime_df[[\"X1\",\"X2\"]]\n",
    "y = crime_df[\"X3\"]\n",
    "\n",
    "estimator = LinearRegression()\n",
    "selector = RFE(estimator,n_features_to_select=3,step=1)\n",
    "selector = selector.fit(X,y)\n",
    "\n",
    "print(selector.support_)\n",
    "print(selector.ranking_)"
   ]
  },
  {
   "cell_type": "markdown",
   "metadata": {},
   "source": [
    "2.Create a function called digital_root that takes in an integer. Digital root is the recursive sum of all the digits in a number. Given n, take the sum of the digits of n. If that value has more than one digit, continue reducing in this way until a single-digit number is produced. The input will be anon-negative integer. Examples:16 --> 1 + 6 = 7\n",
    "\n",
    "\n",
    "942 --> 9 + 4 + 2 = 15 --> 1 + 5 = 6\n",
    "\n",
    "\n",
    "132189 --> 1 + 3 + 2 + 1 + 8 + 9 = 24 --> 2 +4 = 6\n",
    "\n",
    "\n",
    "493193 --> 4 + 9 + 3 + 1 + 9 + 3 = 29 --> 2 +9 = 11\n"
   ]
  },
  {
   "cell_type": "code",
   "execution_count": 4,
   "metadata": {},
   "outputs": [
    {
     "name": "stdout",
     "output_type": "stream",
     "text": [
      "7\n",
      "6\n",
      "6\n",
      "2\n"
     ]
    }
   ],
   "source": [
    "def digital_root(number):\n",
    "    x = str(number)\n",
    "    while len(x) > 1:\n",
    "        y = 0\n",
    "        for i in range(len(x)):\n",
    "            y = y + int(x[i])\n",
    "        x = str(y)\n",
    "    return y\n",
    "      \n",
    "    \n",
    "print(digital_root(16))\n",
    "print(digital_root(942))  \n",
    "print(digital_root(132189))  \n",
    "print(digital_root(493193))\n",
    "  "
   ]
  },
  {
   "cell_type": "code",
   "execution_count": null,
   "metadata": {},
   "outputs": [],
   "source": []
  }
 ],
 "metadata": {
  "kernelspec": {
   "display_name": "Python 3",
   "language": "python",
   "name": "python3"
  },
  "language_info": {
   "codemirror_mode": {
    "name": "ipython",
    "version": 3
   },
   "file_extension": ".py",
   "mimetype": "text/x-python",
   "name": "python",
   "nbconvert_exporter": "python",
   "pygments_lexer": "ipython3",
   "version": "3.8.5"
  }
 },
 "nbformat": 4,
 "nbformat_minor": 4
}
