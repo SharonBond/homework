{
 "cells": [
  {
   "cell_type": "code",
   "execution_count": 9,
   "metadata": {},
   "outputs": [
    {
     "name": "stdout",
     "output_type": "stream",
     "text": [
      "[1.3333333333333333, 2.6666666666666665, 3.333333333333333, 5.333333333333333, 6.666666666666666, 8.0, 9.333333333333332]\n",
      "{'apples': 1500, 'cranberries': 2000, 'pears': 2500, 'cherries': 1600, 'plums': 2400, 'peaches': 13600, 'oranges': 7}\n"
     ]
    }
   ],
   "source": [
    "#Take the following list and create a new list from the square of \n",
    "#value\n",
    "\n",
    "og_list = [2,4,5,8,10,12,14]\n",
    "squared_list = [num **2 for num in og_list]\n",
    "squared_list\n",
    "\n",
    "## take the same list from the previous question and create a new list\n",
    "#but where each value is 2/3\n",
    "two_thirds_list = [num*(2/3) for num in og_list]\n",
    "print(two_thirds_list)\n",
    "\n",
    "\n",
    "\n",
    "\n",
    "\n",
    "## write a list comprehension to lowercase all the keys in the below\n",
    "#dictionary. The data represents how many pounds of each fruit a canning \n",
    "#company is ordering. \n",
    "#why might you use a list comprehension to do something like this? \n",
    "#it is simpler\n",
    "dict = {\"Apples\":1500, \"Cranberries\":2000, \"Pears\":2500, \"Cherries\":1600, \"Plums\":2400, \"Peaches\":13600, \"Oranges\":7}\n",
    "low_dict = {key.lower(): value for key, value in dict.items()}\n",
    "print(low_dict)\n",
    "\n",
    "#other option \n",
    "lowercase = {a.lower(): b for a,b in dict.items()}\n"
   ]
  },
  {
   "cell_type": "code",
   "execution_count": null,
   "metadata": {},
   "outputs": [],
   "source": []
  },
  {
   "cell_type": "code",
   "execution_count": null,
   "metadata": {},
   "outputs": [],
   "source": []
  }
 ],
 "metadata": {
  "kernelspec": {
   "display_name": "Python 3",
   "language": "python",
   "name": "python3"
  },
  "language_info": {
   "codemirror_mode": {
    "name": "ipython",
    "version": 3
   },
   "file_extension": ".py",
   "mimetype": "text/x-python",
   "name": "python",
   "nbconvert_exporter": "python",
   "pygments_lexer": "ipython3",
   "version": "3.8.5"
  }
 },
 "nbformat": 4,
 "nbformat_minor": 4
}
