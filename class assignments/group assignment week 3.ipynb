{
 "cells": [
  {
   "cell_type": "code",
   "execution_count": 2,
   "metadata": {},
   "outputs": [
    {
     "name": "stdout",
     "output_type": "stream",
     "text": [
      "A + b = 10\n",
      "A - b = -4\n",
      "A*b = 21\n"
     ]
    }
   ],
   "source": [
    "## create a function that acceots two values, a and b. \n",
    "##First line contains the sum of the two numbers\n",
    "##second line contains the difference of the two numbers\n",
    "##The third line contains the product of the two numbers \n",
    "\n",
    "## IF any of the results are zero, print \"zero\"\n",
    "\n",
    "def group_exercise(a,b):\n",
    "    c = a+b\n",
    "    d = a-b\n",
    "    e = a*b\n",
    "    if (c ==0):\n",
    "            c = \"Zero\"\n",
    "    if (d ==0):\n",
    "            d = \"Zero\"\n",
    "    if (e ==0):\n",
    "            e = \"Zero\"\n",
    "    print(\"A + b = \" + str(c))\n",
    "    print(\"A - b = \" + str(d))\n",
    "    print(\"A*b = \" + str(e))\n",
    "\n",
    "group_exercise(3,7)   \n"
   ]
  }
 ],
 "metadata": {
  "kernelspec": {
   "display_name": "Python 3",
   "language": "python",
   "name": "python3"
  },
  "language_info": {
   "codemirror_mode": {
    "name": "ipython",
    "version": 3
   },
   "file_extension": ".py",
   "mimetype": "text/x-python",
   "name": "python",
   "nbconvert_exporter": "python",
   "pygments_lexer": "ipython3",
   "version": "3.8.5"
  }
 },
 "nbformat": 4,
 "nbformat_minor": 4
}
