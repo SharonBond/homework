{
 "cells": [
  {
   "cell_type": "markdown",
   "metadata": {},
   "source": []
  },
  {
   "cell_type": "markdown",
   "metadata": {},
   "source": [
    "# Use Splinter and/or Beautiful Soup to scrape https://www.dndbeyond.com/classes, and pull out all class names. Store these in a dataframe.\n"
   ]
  },
  {
   "cell_type": "code",
   "execution_count": 101,
   "metadata": {},
   "outputs": [],
   "source": [
    "import pandas as pd\n"
   ]
  },
  {
   "cell_type": "code",
   "execution_count": 102,
   "metadata": {},
   "outputs": [],
   "source": [
    "from bs4 import BeautifulSoup as bs\n",
    "import requests\n",
    "url = 'http://bookstoscrape.com'"
   ]
  },
  {
   "cell_type": "code",
   "execution_count": 103,
   "metadata": {},
   "outputs": [
    {
     "data": {
      "text/plain": [
       "<Response [200]>"
      ]
     },
     "execution_count": 103,
     "metadata": {},
     "output_type": "execute_result"
    }
   ],
   "source": [
    "response = requests.get(url)\n",
    "response"
   ]
  },
  {
   "cell_type": "code",
   "execution_count": 104,
   "metadata": {},
   "outputs": [],
   "source": [
    "from splinter import Browser\n",
    "from webdriver_manager.chrome import ChromeDriverManager\n"
   ]
  },
  {
   "cell_type": "code",
   "execution_count": 105,
   "metadata": {},
   "outputs": [
    {
     "name": "stderr",
     "output_type": "stream",
     "text": [
      "\n",
      "\n",
      "====== WebDriver manager ======\n",
      "Current google-chrome version is 92.0.4515\n",
      "Get LATEST driver version for 92.0.4515\n",
      "Driver [C:\\Users\\weird\\.wdm\\drivers\\chromedriver\\win32\\92.0.4515.107\\chromedriver.exe] found in cache\n"
     ]
    }
   ],
   "source": [
    "executable_path = {'executable_path': ChromeDriverManager().install()}\n",
    "browser = Browser('chrome', **executable_path, headless=False)\n",
    "url = 'http://dndbeyond.com/classes'\n",
    "browser.visit(url) "
   ]
  },
  {
   "cell_type": "code",
   "execution_count": 106,
   "metadata": {},
   "outputs": [
    {
     "data": {
      "text/html": [
       "<div>\n",
       "<style scoped>\n",
       "    .dataframe tbody tr th:only-of-type {\n",
       "        vertical-align: middle;\n",
       "    }\n",
       "\n",
       "    .dataframe tbody tr th {\n",
       "        vertical-align: top;\n",
       "    }\n",
       "\n",
       "    .dataframe thead th {\n",
       "        text-align: right;\n",
       "    }\n",
       "</style>\n",
       "<table border=\"1\" class=\"dataframe\">\n",
       "  <thead>\n",
       "    <tr style=\"text-align: right;\">\n",
       "      <th></th>\n",
       "      <th>class</th>\n",
       "    </tr>\n",
       "  </thead>\n",
       "  <tbody>\n",
       "    <tr>\n",
       "      <th>0</th>\n",
       "      <td>Barbarian</td>\n",
       "    </tr>\n",
       "    <tr>\n",
       "      <th>1</th>\n",
       "      <td>Bard</td>\n",
       "    </tr>\n",
       "    <tr>\n",
       "      <th>2</th>\n",
       "      <td>Cleric</td>\n",
       "    </tr>\n",
       "    <tr>\n",
       "      <th>3</th>\n",
       "      <td>Druid</td>\n",
       "    </tr>\n",
       "    <tr>\n",
       "      <th>4</th>\n",
       "      <td>Fighter</td>\n",
       "    </tr>\n",
       "    <tr>\n",
       "      <th>5</th>\n",
       "      <td>Monk</td>\n",
       "    </tr>\n",
       "    <tr>\n",
       "      <th>6</th>\n",
       "      <td>Paladin</td>\n",
       "    </tr>\n",
       "    <tr>\n",
       "      <th>7</th>\n",
       "      <td>Ranger</td>\n",
       "    </tr>\n",
       "    <tr>\n",
       "      <th>8</th>\n",
       "      <td>Rogue</td>\n",
       "    </tr>\n",
       "    <tr>\n",
       "      <th>9</th>\n",
       "      <td>Sorcerer</td>\n",
       "    </tr>\n",
       "    <tr>\n",
       "      <th>10</th>\n",
       "      <td>Warlock</td>\n",
       "    </tr>\n",
       "    <tr>\n",
       "      <th>11</th>\n",
       "      <td>Wizard</td>\n",
       "    </tr>\n",
       "    <tr>\n",
       "      <th>12</th>\n",
       "      <td>Artificer</td>\n",
       "    </tr>\n",
       "    <tr>\n",
       "      <th>13</th>\n",
       "      <td>Blood Hunter</td>\n",
       "    </tr>\n",
       "  </tbody>\n",
       "</table>\n",
       "</div>"
      ],
      "text/plain": [
       "                                   class\n",
       "0                              Barbarian\n",
       "1                                   Bard\n",
       "2                                 Cleric\n",
       "3                                  Druid\n",
       "4                                Fighter\n",
       "5                                   Monk\n",
       "6                                Paladin\n",
       "7                                 Ranger\n",
       "8                                  Rogue\n",
       "9                               Sorcerer\n",
       "10                               Warlock\n",
       "11                                Wizard\n",
       "12                             Artificer\n",
       "13                          Blood Hunter"
      ]
     },
     "execution_count": 106,
     "metadata": {},
     "output_type": "execute_result"
    }
   ],
   "source": [
    "#I've played Rogue and Fighter. I think I liked the rogue the best.\n",
    "\n",
    "soup = bs(browser.html, 'html.parser')\n",
    "all_class = soup.find_all('h3', class_='listing-card__title')\n",
    "dnd_list = []\n",
    "for dndclass in all_class:\n",
    "    dnd_dict = {\"class\":dndclass.text.strip(' ').strip('\\n')}\n",
    "    dnd_list.append(dnd_dict)\n",
    "dnd_df =  pd.DataFrame(dnd_list)\n",
    "dnd_df"
   ]
  },
  {
   "cell_type": "markdown",
   "metadata": {},
   "source": [
    "# Now, alter 1 to click on each class name to go to the more detailed page, and pull out the first paragraph about each class. Store these in a dataframe. Your dataframe should have two columns"
   ]
  },
  {
   "cell_type": "code",
   "execution_count": null,
   "metadata": {},
   "outputs": [],
   "source": []
  },
  {
   "cell_type": "code",
   "execution_count": 111,
   "metadata": {},
   "outputs": [
    {
     "name": "stderr",
     "output_type": "stream",
     "text": [
      "\n",
      "\n",
      "====== WebDriver manager ======\n",
      "Current google-chrome version is 92.0.4515\n",
      "Get LATEST driver version for 92.0.4515\n",
      "Driver [C:\\Users\\weird\\.wdm\\drivers\\chromedriver\\win32\\92.0.4515.107\\chromedriver.exe] found in cache\n"
     ]
    }
   ],
   "source": [
    "executable_path = {'executable_path': ChromeDriverManager().install()}\n",
    "browser = Browser('chrome', **executable_path, headless=False)\n",
    "url = 'http://dndbeyond.com/classes'\n",
    "browser.visit(url)"
   ]
  },
  {
   "cell_type": "code",
   "execution_count": 114,
   "metadata": {},
   "outputs": [],
   "source": [
    "all_classes=[]\n",
    "#url = 'https://www.dndbeyond.com/classes'\n",
    "art_url = 'https://www.dndbeyond.com/marketplace/sourcebooks/tashas-cauldron-of-everything'\n",
    "bh_url = 'https://www.dndbeyond.com/classes/blood-hunter'\n",
    "#browser.visit(url)\n",
    "class_dict={}\n",
    "\n",
    "soup=bs(browser.html, 'html.parser')\n",
    "div = soup.find_all('div',class_='listing-card__header-primary')\n",
    "\n",
    "\n",
    "for d in div:\n",
    "    classes= d.find('h3',class_='listing-card__title').text\n",
    "    classes= classes.strip()\n",
    "   \n",
    "    if classes != 'Artificer' and classes != 'Blood Hunter':\n",
    "        url = f'https://www.dndbeyond.com/classes/{classes}'\n",
    "        browser.visit(url)\n",
    "        soup=bs(browser.html, 'html.parser')\n",
    "        class_description = soup.find('p', class_='Core-Styles_Core-Body').text\n",
    "    if classes == 'Artificer':\n",
    "        browser.visit(art_url)\n",
    "        soup = bs(browser.html, 'html.parser')\n",
    "        class_description = soup.find('div',class_='marketplace-item__description j-description').find('p').text\n",
    "    if classes =='Blood Hunter':\n",
    "            browser.visit(bh_url)\n",
    "            soup_page = bs(browser.html, 'html.parser')\n",
    "            p = soup_page.find('div',class_='content-container').find_all('p')\n",
    "            class_description = p[3].text    \n",
    "    class_dict = {'Class':classes, 'Class_Description':class_description}\n",
    "    all_classes.append(class_dict)\n",
    "    \n",
    "    \n",
    "df = pd.DataFrame(all_classes)"
   ]
  },
  {
   "cell_type": "code",
   "execution_count": 115,
   "metadata": {},
   "outputs": [],
   "source": [
    "df = df.sort_values('Class')\n"
   ]
  },
  {
   "cell_type": "code",
   "execution_count": 116,
   "metadata": {},
   "outputs": [
    {
     "data": {
      "text/html": [
       "<div>\n",
       "<style scoped>\n",
       "    .dataframe tbody tr th:only-of-type {\n",
       "        vertical-align: middle;\n",
       "    }\n",
       "\n",
       "    .dataframe tbody tr th {\n",
       "        vertical-align: top;\n",
       "    }\n",
       "\n",
       "    .dataframe thead th {\n",
       "        text-align: right;\n",
       "    }\n",
       "</style>\n",
       "<table border=\"1\" class=\"dataframe\">\n",
       "  <thead>\n",
       "    <tr style=\"text-align: right;\">\n",
       "      <th></th>\n",
       "      <th>Class</th>\n",
       "      <th>Class_Description</th>\n",
       "    </tr>\n",
       "  </thead>\n",
       "  <tbody>\n",
       "    <tr>\n",
       "      <th>12</th>\n",
       "      <td>Artificer</td>\n",
       "      <td>With a Master Tier subscription, save your par...</td>\n",
       "    </tr>\n",
       "    <tr>\n",
       "      <th>0</th>\n",
       "      <td>Barbarian</td>\n",
       "      <td>A tall human tribesman strides through a blizz...</td>\n",
       "    </tr>\n",
       "    <tr>\n",
       "      <th>1</th>\n",
       "      <td>Bard</td>\n",
       "      <td>Humming as she traces her fingers over an anci...</td>\n",
       "    </tr>\n",
       "    <tr>\n",
       "      <th>13</th>\n",
       "      <td>Blood Hunter</td>\n",
       "      <td>Marred but resolute, his grimacing face drippi...</td>\n",
       "    </tr>\n",
       "    <tr>\n",
       "      <th>2</th>\n",
       "      <td>Cleric</td>\n",
       "      <td>Arms and eyes upraised toward the sun and a pr...</td>\n",
       "    </tr>\n",
       "    <tr>\n",
       "      <th>3</th>\n",
       "      <td>Druid</td>\n",
       "      <td>Holding high a gnarled staff wreathed with hol...</td>\n",
       "    </tr>\n",
       "    <tr>\n",
       "      <th>4</th>\n",
       "      <td>Fighter</td>\n",
       "      <td>A human in clanging plate armor holds her shie...</td>\n",
       "    </tr>\n",
       "    <tr>\n",
       "      <th>5</th>\n",
       "      <td>Monk</td>\n",
       "      <td>Her fists a blur as they deflect an incoming h...</td>\n",
       "    </tr>\n",
       "    <tr>\n",
       "      <th>6</th>\n",
       "      <td>Paladin</td>\n",
       "      <td>Clad in plate armor that gleams in the sunligh...</td>\n",
       "    </tr>\n",
       "    <tr>\n",
       "      <th>7</th>\n",
       "      <td>Ranger</td>\n",
       "      <td>Choose a type of favored enemy: aberrations, b...</td>\n",
       "    </tr>\n",
       "    <tr>\n",
       "      <th>8</th>\n",
       "      <td>Rogue</td>\n",
       "      <td>Signaling for her companions to wait, a halfli...</td>\n",
       "    </tr>\n",
       "    <tr>\n",
       "      <th>9</th>\n",
       "      <td>Sorcerer</td>\n",
       "      <td>Golden eyes flashing, a human stretches out he...</td>\n",
       "    </tr>\n",
       "    <tr>\n",
       "      <th>10</th>\n",
       "      <td>Warlock</td>\n",
       "      <td>With a pseudodragon curled on his shoulder, a ...</td>\n",
       "    </tr>\n",
       "    <tr>\n",
       "      <th>11</th>\n",
       "      <td>Wizard</td>\n",
       "      <td>Clad in the silver robes that denote her stati...</td>\n",
       "    </tr>\n",
       "  </tbody>\n",
       "</table>\n",
       "</div>"
      ],
      "text/plain": [
       "           Class                                  Class_Description\n",
       "12     Artificer  With a Master Tier subscription, save your par...\n",
       "0      Barbarian  A tall human tribesman strides through a blizz...\n",
       "1           Bard  Humming as she traces her fingers over an anci...\n",
       "13  Blood Hunter  Marred but resolute, his grimacing face drippi...\n",
       "2         Cleric  Arms and eyes upraised toward the sun and a pr...\n",
       "3          Druid  Holding high a gnarled staff wreathed with hol...\n",
       "4        Fighter  A human in clanging plate armor holds her shie...\n",
       "5           Monk  Her fists a blur as they deflect an incoming h...\n",
       "6        Paladin  Clad in plate armor that gleams in the sunligh...\n",
       "7         Ranger  Choose a type of favored enemy: aberrations, b...\n",
       "8          Rogue  Signaling for her companions to wait, a halfli...\n",
       "9       Sorcerer  Golden eyes flashing, a human stretches out he...\n",
       "10       Warlock  With a pseudodragon curled on his shoulder, a ...\n",
       "11        Wizard  Clad in the silver robes that denote her stati..."
      ]
     },
     "execution_count": 116,
     "metadata": {},
     "output_type": "execute_result"
    }
   ],
   "source": [
    "df\n",
    "# so it looks like Artificer isn't what we think it should be and I'm guessing it is because we don't \n",
    "#actually have access to the book itself. I do in real life, it is in my husband's DND library. But that doesn't help \n",
    "#here so we'll get the next best thing. "
   ]
  },
  {
   "cell_type": "markdown",
   "metadata": {},
   "source": [
    "# the artificer should say \"masters of invention, artificers use ingenuity and magic to unlock extraordinary capabilites in objects.\" \n"
   ]
  },
  {
   "cell_type": "code",
   "execution_count": null,
   "metadata": {},
   "outputs": [],
   "source": []
  }
 ],
 "metadata": {
  "kernelspec": {
   "display_name": "Python 3",
   "language": "python",
   "name": "python3"
  },
  "language_info": {
   "codemirror_mode": {
    "name": "ipython",
    "version": 3
   },
   "file_extension": ".py",
   "mimetype": "text/x-python",
   "name": "python",
   "nbconvert_exporter": "python",
   "pygments_lexer": "ipython3",
   "version": "3.8.5"
  }
 },
 "nbformat": 4,
 "nbformat_minor": 4
}
