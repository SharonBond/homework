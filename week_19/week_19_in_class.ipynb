{
 "cells": [
  {
   "cell_type": "code",
   "execution_count": 54,
   "metadata": {},
   "outputs": [],
   "source": [
    "import numpy as np\n",
    "from sklearn.metrics import mean_squared_error\n"
   ]
  },
  {
   "cell_type": "code",
   "execution_count": 44,
   "metadata": {},
   "outputs": [],
   "source": [
    "import pandas as pd\n",
    "\n",
    "column_list = ['Sex','Length','Diameter','Height','Whole weight','Shucked weight','Viscera weight','Shell weight','Rings']\n",
    "abalone_df = pd.read_table(\"abalone.data\",sep=\",\",header=None,names=column_list)\n",
    "\n"
   ]
  },
  {
   "cell_type": "code",
   "execution_count": 45,
   "metadata": {},
   "outputs": [
    {
     "name": "stdout",
     "output_type": "stream",
     "text": [
      "<class 'pandas.core.frame.DataFrame'>\n",
      "Int64Index: 4122 entries, 0 to 4176\n",
      "Data columns (total 11 columns):\n",
      " #   Column          Non-Null Count  Dtype  \n",
      "---  ------          --------------  -----  \n",
      " 0   Length          4122 non-null   float64\n",
      " 1   Diameter        4122 non-null   float64\n",
      " 2   Height          4122 non-null   float64\n",
      " 3   Whole weight    4122 non-null   float64\n",
      " 4   Shucked weight  4122 non-null   float64\n",
      " 5   Viscera weight  4122 non-null   float64\n",
      " 6   Shell weight    4122 non-null   float64\n",
      " 7   Rings           4122 non-null   int64  \n",
      " 8   Sex_F           4122 non-null   uint8  \n",
      " 9   Sex_I           4122 non-null   uint8  \n",
      " 10  Sex_M           4122 non-null   uint8  \n",
      "dtypes: float64(7), int64(1), uint8(3)\n",
      "memory usage: 301.9 KB\n",
      "Length            0.165000\n",
      "Diameter          0.130000\n",
      "Height            0.050000\n",
      "Whole weight      0.706875\n",
      "Shucked weight    0.315750\n",
      "Viscera weight    0.159000\n",
      "Shell weight      0.195000\n",
      "Rings             3.000000\n",
      "Sex_F             1.000000\n",
      "Sex_I             1.000000\n",
      "Sex_M             1.000000\n",
      "dtype: float64\n"
     ]
    },
    {
     "data": {
      "text/plain": [
       "array([[-0.57816635, -0.43195836, -1.16192728, ..., -0.66948808,\n",
       "        -0.69510779,  1.31974141],\n",
       "       [-1.46684626, -1.45682005, -1.29490355, ..., -0.66948808,\n",
       "        -0.69510779,  1.31974141],\n",
       "       [ 0.05660501,  0.13171558, -0.09811714, ...,  1.49367858,\n",
       "        -0.69510779, -0.7577242 ],\n",
       "       ...,\n",
       "       [ 0.64905828,  0.69538951,  1.76355062, ..., -0.66948808,\n",
       "        -0.69510779,  1.31974141],\n",
       "       [ 0.86064874,  0.79787568,  0.30081167, ...,  1.49367858,\n",
       "        -0.69510779, -0.7577242 ],\n",
       "       [ 1.58005628,  1.51527887,  1.49759808, ..., -0.66948808,\n",
       "        -0.69510779,  1.31974141]])"
      ]
     },
     "execution_count": 45,
     "metadata": {},
     "output_type": "execute_result"
    }
   ],
   "source": [
    "abalone_df = pd.get_dummies(abalone_df)\n",
    "abalone_df.head()\n",
    "abalone_df = abalone_df[abalone_df.Height != 0]\n",
    "abalone_df['Rings'].value_counts().sort_index()\n",
    "abalone_df = abalone_df[(abalone_df['Rings'] < 21) & (abalone_df['Rings']>3)]\n",
    "abalone_df.info()\n",
    "out_abalone=abalone_df.copy()\n",
    "Q1 = out_abalone.quantile(0.25)\n",
    "Q3 = out_abalone.quantile(0.75)\n",
    "IQR = Q3 - Q1\n",
    "print(IQR)\n",
    "abalone_df = out_abalone[~((out_abalone < (Q1 - 2.5 * IQR)) |(out_abalone > (Q3 + 2.5 * IQR))).any(axis=1)]\n",
    "abalone_df.shape\n",
    "from sklearn import preprocessing\n",
    "X = abalone_df.drop(['Rings'], axis=1)\n",
    "y = abalone_df['Rings']\n",
    "from sklearn.model_selection import train_test_split\n",
    "X_train, X_test, y_train, y_test = train_test_split(X, y, test_size = 0.3, random_state = 27)\n",
    "from sklearn.preprocessing import StandardScaler\n",
    "sc = StandardScaler()\n",
    "sc.fit_transform(X, y)"
   ]
  },
  {
   "cell_type": "code",
   "execution_count": 46,
   "metadata": {},
   "outputs": [
    {
     "name": "stdout",
     "output_type": "stream",
     "text": [
      "Model: \"sequential_25\"\n",
      "_________________________________________________________________\n",
      "Layer (type)                 Output Shape              Param #   \n",
      "=================================================================\n",
      "dense_125 (Dense)            (None, 300)               3300      \n",
      "_________________________________________________________________\n",
      "dense_126 (Dense)            (None, 300)               90300     \n",
      "_________________________________________________________________\n",
      "dense_127 (Dense)            (None, 300)               90300     \n",
      "_________________________________________________________________\n",
      "dense_128 (Dense)            (None, 300)               90300     \n",
      "_________________________________________________________________\n",
      "dense_129 (Dense)            (None, 1)                 301       \n",
      "=================================================================\n",
      "Total params: 274,501\n",
      "Trainable params: 274,501\n",
      "Non-trainable params: 0\n",
      "_________________________________________________________________\n",
      "Epoch 1/30\n",
      "29/29 [==============================] - 3s 35ms/step - loss: 53.5733 - mean_squared_error: 53.5733 - val_loss: 7.4569 - val_mean_squared_error: 7.4569\n",
      "Epoch 2/30\n",
      "29/29 [==============================] - 0s 12ms/step - loss: 6.4749 - mean_squared_error: 6.4749 - val_loss: 4.4757 - val_mean_squared_error: 4.4757\n",
      "Epoch 3/30\n",
      "29/29 [==============================] - 0s 13ms/step - loss: 5.0049 - mean_squared_error: 5.0049 - val_loss: 4.2300 - val_mean_squared_error: 4.2300\n",
      "Epoch 4/30\n",
      "29/29 [==============================] - 0s 12ms/step - loss: 4.5009 - mean_squared_error: 4.5009 - val_loss: 4.1019 - val_mean_squared_error: 4.1019\n",
      "Epoch 5/30\n",
      "29/29 [==============================] - 0s 11ms/step - loss: 4.4504 - mean_squared_error: 4.4504 - val_loss: 3.9021 - val_mean_squared_error: 3.9021\n",
      "Epoch 6/30\n",
      "29/29 [==============================] - 0s 12ms/step - loss: 3.8689 - mean_squared_error: 3.8689 - val_loss: 3.7073 - val_mean_squared_error: 3.7073\n",
      "Epoch 7/30\n",
      "29/29 [==============================] - 0s 12ms/step - loss: 3.7718 - mean_squared_error: 3.7718 - val_loss: 3.6748 - val_mean_squared_error: 3.6748\n",
      "Epoch 8/30\n",
      "29/29 [==============================] - 0s 12ms/step - loss: 3.5287 - mean_squared_error: 3.5287 - val_loss: 3.5169 - val_mean_squared_error: 3.5169\n",
      "Epoch 9/30\n",
      "29/29 [==============================] - 0s 13ms/step - loss: 3.6921 - mean_squared_error: 3.6921 - val_loss: 3.4476 - val_mean_squared_error: 3.4476\n",
      "Epoch 10/30\n",
      "29/29 [==============================] - 0s 12ms/step - loss: 3.6230 - mean_squared_error: 3.6230 - val_loss: 3.7000 - val_mean_squared_error: 3.7000\n",
      "Epoch 11/30\n",
      "29/29 [==============================] - 0s 12ms/step - loss: 3.6996 - mean_squared_error: 3.6996 - val_loss: 3.8197 - val_mean_squared_error: 3.8197\n",
      "Epoch 12/30\n",
      "29/29 [==============================] - 0s 12ms/step - loss: 3.8479 - mean_squared_error: 3.8479 - val_loss: 3.6155 - val_mean_squared_error: 3.6155\n"
     ]
    },
    {
     "data": {
      "text/plain": [
       "<keras.callbacks.History at 0x20ec8f9d1c0>"
      ]
     },
     "execution_count": 46,
     "metadata": {},
     "output_type": "execute_result"
    }
   ],
   "source": [
    "# Import necessary modules\n",
    "import keras\n",
    "from keras.layers import Dense\n",
    "from keras.models import Sequential\n",
    "from keras.callbacks import EarlyStopping\n",
    "\n",
    "\n",
    "# Specify the model\n",
    "n_cols = X.shape[1]\n",
    "model = Sequential()\n",
    "model.add(Dense(300, activation='relu', input_shape = (n_cols,)))\n",
    "model.add(Dense(300, activation='relu'))\n",
    "model.add(Dense(300, activation='relu'))\n",
    "model.add(Dense(300, activation='relu'))\n",
    "model.add(Dense(1, activation='linear'))\n",
    "model.summary()\n",
    "\n",
    "early_stopping_monitor = EarlyStopping(patience = 3)\n",
    "\n",
    "\n",
    "\n",
    "#model.summary()\n",
    "# Compile the model\n",
    "model.compile(optimizer = 'adam', loss = 'mse', metrics = ['mean_squared_error'])\n",
    "\n",
    "\n",
    "#model.fit(X_train, y_train,  validation_split = .3, epochs = 30, batch_size=100,verbose=1,callbacks = [early_stopping_monitor])\n",
    "model.fit(X, y, validation_split = .3, epochs = 30, batch_size=100,verbose=1,callbacks = [early_stopping_monitor])\n",
    "\n",
    "                                                                              \n",
    "                                                                              \n",
    "                                           "
   ]
  },
  {
   "cell_type": "code",
   "execution_count": null,
   "metadata": {},
   "outputs": [],
   "source": []
  },
  {
   "cell_type": "code",
   "execution_count": 47,
   "metadata": {},
   "outputs": [
    {
     "data": {
      "text/plain": [
       "1.8541844568434933"
      ]
     },
     "execution_count": 47,
     "metadata": {},
     "output_type": "execute_result"
    }
   ],
   "source": [
    "NNMSE = 3.4380\n",
    "NNRMSE = NNMSE**.5\n",
    "NNRMSE"
   ]
  },
  {
   "cell_type": "code",
   "execution_count": 48,
   "metadata": {},
   "outputs": [],
   "source": [
    "import matplotlib.pyplot as plt\n"
   ]
  },
  {
   "cell_type": "code",
   "execution_count": 55,
   "metadata": {},
   "outputs": [
    {
     "name": "stdout",
     "output_type": "stream",
     "text": [
      "Model: \"sequential_30\"\n",
      "_________________________________________________________________\n",
      "Layer (type)                 Output Shape              Param #   \n",
      "=================================================================\n",
      "dense_150 (Dense)            (None, 300)               1800      \n",
      "_________________________________________________________________\n",
      "dense_151 (Dense)            (None, 300)               90300     \n",
      "_________________________________________________________________\n",
      "dense_152 (Dense)            (None, 300)               90300     \n",
      "_________________________________________________________________\n",
      "dense_153 (Dense)            (None, 300)               90300     \n",
      "_________________________________________________________________\n",
      "dense_154 (Dense)            (None, 1)                 301       \n",
      "=================================================================\n",
      "Total params: 273,001\n",
      "Trainable params: 273,001\n",
      "Non-trainable params: 0\n",
      "_________________________________________________________________\n",
      "Epoch 1/30\n",
      "29/29 [==============================] - 2s 33ms/step - loss: 57.9764 - val_loss: 5.2378\n",
      "Epoch 2/30\n",
      "29/29 [==============================] - 0s 13ms/step - loss: 5.8278 - val_loss: 4.6712\n",
      "Epoch 3/30\n",
      "29/29 [==============================] - 0s 12ms/step - loss: 4.2128 - val_loss: 4.0363\n",
      "Epoch 4/30\n",
      "29/29 [==============================] - 0s 12ms/step - loss: 3.8283 - val_loss: 3.8722\n",
      "Epoch 5/30\n",
      "29/29 [==============================] - 0s 11ms/step - loss: 3.7896 - val_loss: 3.7076\n",
      "Epoch 6/30\n",
      "29/29 [==============================] - 0s 12ms/step - loss: 3.4639 - val_loss: 3.6807\n",
      "Epoch 7/30\n",
      "29/29 [==============================] - 0s 11ms/step - loss: 3.3984 - val_loss: 3.5297\n",
      "Epoch 8/30\n",
      "29/29 [==============================] - 0s 11ms/step - loss: 3.4399 - val_loss: 3.5085\n",
      "Epoch 9/30\n",
      "29/29 [==============================] - 0s 12ms/step - loss: 3.4726 - val_loss: 3.5873\n",
      "Epoch 10/30\n",
      "29/29 [==============================] - 0s 11ms/step - loss: 3.6805 - val_loss: 3.6833\n",
      "Epoch 11/30\n",
      "29/29 [==============================] - 0s 11ms/step - loss: 3.1862 - val_loss: 3.5657\n",
      "Epoch 12/30\n",
      "29/29 [==============================] - 0s 11ms/step - loss: 3.4301 - val_loss: 3.4909\n",
      "Epoch 13/30\n",
      "29/29 [==============================] - 0s 11ms/step - loss: 3.3983 - val_loss: 3.5904\n",
      "Epoch 14/30\n",
      "29/29 [==============================] - 0s 12ms/step - loss: 3.1923 - val_loss: 3.4720\n",
      "Epoch 15/30\n",
      "29/29 [==============================] - 0s 11ms/step - loss: 3.4755 - val_loss: 3.5869\n",
      "Epoch 16/30\n",
      "29/29 [==============================] - 0s 12ms/step - loss: 3.4878 - val_loss: 3.4674\n",
      "Epoch 17/30\n",
      "29/29 [==============================] - 0s 11ms/step - loss: 3.3718 - val_loss: 3.5863\n",
      "Epoch 18/30\n",
      "29/29 [==============================] - 0s 11ms/step - loss: 3.4577 - val_loss: 3.5306\n",
      "Epoch 19/30\n",
      "29/29 [==============================] - 0s 12ms/step - loss: 3.3212 - val_loss: 3.9713\n",
      "Epoch 20/30\n",
      "29/29 [==============================] - 0s 12ms/step - loss: 3.5683 - val_loss: 3.5817\n",
      "Epoch 21/30\n",
      "29/29 [==============================] - 0s 11ms/step - loss: 3.3805 - val_loss: 3.6592\n",
      "Epoch 22/30\n",
      "29/29 [==============================] - 0s 11ms/step - loss: 3.2774 - val_loss: 3.7007\n",
      "Epoch 23/30\n",
      "29/29 [==============================] - 0s 11ms/step - loss: 3.6870 - val_loss: 3.4598\n",
      "Epoch 24/30\n",
      "29/29 [==============================] - 0s 11ms/step - loss: 3.2515 - val_loss: 3.7292\n",
      "Epoch 25/30\n",
      "29/29 [==============================] - 0s 11ms/step - loss: 3.4711 - val_loss: 3.6850\n",
      "Epoch 26/30\n",
      "29/29 [==============================] - 0s 12ms/step - loss: 3.2599 - val_loss: 3.4609\n",
      "Epoch 27/30\n",
      "29/29 [==============================] - 0s 12ms/step - loss: 3.3808 - val_loss: 3.4508\n",
      "Epoch 28/30\n",
      "29/29 [==============================] - 0s 11ms/step - loss: 3.2714 - val_loss: 3.9695\n",
      "Epoch 29/30\n",
      "29/29 [==============================] - 0s 12ms/step - loss: 3.7870 - val_loss: 3.6457\n",
      "Epoch 30/30\n",
      "29/29 [==============================] - 0s 12ms/step - loss: 3.5515 - val_loss: 3.4351\n",
      "Train: 3.302, Test: 3.435\n",
      "RMSE is  1.8533929739135948\n"
     ]
    },
    {
     "data": {
      "image/png": "[encoded data removed]",
      "text/plain": [
       "<Figure size 432x288 with 1 Axes>"
      ]
     },
     "metadata": {
      "needs_background": "light"
     },
     "output_type": "display_data"
    },
    {
     "name": "stdout",
     "output_type": "stream",
     "text": [
      "Train: 3.302, Test: 3.435\n",
      "RMSE is  1.8533929739135948\n"
     ]
    }
   ],
   "source": [
    "from sklearn.decomposition import TruncatedSVD\n",
    "\n",
    "svd = TruncatedSVD(n_components=5)\n",
    "\n",
    "X_train_svd=svd.fit_transform(X_train)\n",
    "X_test_svd=svd.fit_transform(X_test)\n",
    "\n",
    "n_cols = X_train_svd.shape[1]\n",
    "input_shape = (n_cols, )\n",
    "model = Sequential()\n",
    "model.add(Dense(300, activation='relu', input_shape = input_shape))\n",
    "model.add(Dense(300, activation='relu'))\n",
    "model.add(Dense(300, activation='relu'))\n",
    "model.add(Dense(300, activation='relu'))\n",
    "model.add(Dense(1, activation='linear'))\n",
    "model.summary()\n",
    "\n",
    "\n",
    "\n",
    "\n",
    "model.compile(optimizer = 'adam', loss = 'mse')\n",
    "\n",
    "\n",
    "#model.fit(X_train, y_train,  validation_split = .3, epochs = 30, batch_size=100,verbose=1,callbacks = [early_stopping_monitor])\n",
    "history = model.fit(X_train_svd, y_train, validation_data = (X_test_svd, y_test), epochs = 30, batch_size=100,verbose=1)\n",
    "y_pred= model.predict(X_test_svd)\n",
    "# evaluate the model\n",
    "train_mse = model.evaluate(X_train_svd, y_train, verbose=0)\n",
    "test_mse = model.evaluate(X_test_svd, y_test, verbose=0)\n",
    "print('Train: %.3f, Test: %.3f' % (train_mse, test_mse))\n",
    "rmse = np.sqrt(mean_squared_error(y_test, y_pred))\n",
    "print('RMSE is ', rmse)\n",
    "plt.title('loss/mean squared error')\n",
    "plt.plot(history.history['loss'], label = 'train')\n",
    "plt.plot(history.history['val_loss'], label='test')\n",
    "plt.legend()\n",
    "plt.show()\n",
    "\n",
    "print('Train: %.3f, Test: %.3f' % (train_mse, test_mse))\n",
    "print('RMSE is ', rmse)\n"
   ]
  },
  {
   "cell_type": "code",
   "execution_count": 57,
   "metadata": {},
   "outputs": [
    {
     "name": "stdout",
     "output_type": "stream",
     "text": [
      "Model: \"sequential_32\"\n",
      "_________________________________________________________________\n",
      "Layer (type)                 Output Shape              Param #   \n",
      "=================================================================\n",
      "dense_160 (Dense)            (None, 300)               1800      \n",
      "_________________________________________________________________\n",
      "dense_161 (Dense)            (None, 300)               90300     \n",
      "_________________________________________________________________\n",
      "dense_162 (Dense)            (None, 300)               90300     \n",
      "_________________________________________________________________\n",
      "dense_163 (Dense)            (None, 300)               90300     \n",
      "_________________________________________________________________\n",
      "dense_164 (Dense)            (None, 1)                 301       \n",
      "=================================================================\n",
      "Total params: 273,001\n",
      "Trainable params: 273,001\n",
      "Non-trainable params: 0\n",
      "_________________________________________________________________\n",
      "Epoch 1/30\n",
      "29/29 [==============================] - 2s 29ms/step - loss: 65.8498 - val_loss: 6.9264\n",
      "Epoch 2/30\n",
      "29/29 [==============================] - 0s 12ms/step - loss: 6.4155 - val_loss: 4.6479\n",
      "Epoch 3/30\n",
      "29/29 [==============================] - 0s 12ms/step - loss: 4.2087 - val_loss: 4.4808\n",
      "Epoch 4/30\n",
      "29/29 [==============================] - 0s 12ms/step - loss: 3.8921 - val_loss: 3.9955\n",
      "Epoch 5/30\n",
      "29/29 [==============================] - 0s 11ms/step - loss: 3.4650 - val_loss: 3.7251\n",
      "Epoch 6/30\n",
      "29/29 [==============================] - 0s 11ms/step - loss: 3.7415 - val_loss: 3.6211\n",
      "Epoch 7/30\n",
      "29/29 [==============================] - 0s 11ms/step - loss: 3.3516 - val_loss: 3.6416\n",
      "Epoch 8/30\n",
      "29/29 [==============================] - 0s 12ms/step - loss: 3.4967 - val_loss: 3.5519\n",
      "Epoch 9/30\n",
      "29/29 [==============================] - 0s 11ms/step - loss: 3.3260 - val_loss: 3.7498\n",
      "Epoch 10/30\n",
      "29/29 [==============================] - 0s 12ms/step - loss: 3.4713 - val_loss: 3.5875\n",
      "Epoch 11/30\n",
      "29/29 [==============================] - 0s 11ms/step - loss: 3.5224 - val_loss: 3.8345\n",
      "Epoch 12/30\n",
      "29/29 [==============================] - 0s 11ms/step - loss: 3.3819 - val_loss: 3.9956\n",
      "Epoch 13/30\n",
      "29/29 [==============================] - 0s 11ms/step - loss: 3.4749 - val_loss: 3.6294\n",
      "Epoch 14/30\n",
      "29/29 [==============================] - 0s 12ms/step - loss: 3.3660 - val_loss: 3.7011\n",
      "Epoch 15/30\n",
      "29/29 [==============================] - 0s 11ms/step - loss: 3.3372 - val_loss: 3.6315\n",
      "Epoch 16/30\n",
      "29/29 [==============================] - 0s 11ms/step - loss: 3.5009 - val_loss: 3.6033\n",
      "Epoch 17/30\n",
      "29/29 [==============================] - 0s 11ms/step - loss: 3.4602 - val_loss: 3.5567\n",
      "Epoch 18/30\n",
      "29/29 [==============================] - 0s 11ms/step - loss: 3.4045 - val_loss: 3.6418\n",
      "Epoch 19/30\n",
      "29/29 [==============================] - 0s 12ms/step - loss: 3.5235 - val_loss: 4.0559\n",
      "Epoch 20/30\n",
      "29/29 [==============================] - 0s 11ms/step - loss: 3.6030 - val_loss: 3.6476\n",
      "Epoch 21/30\n",
      "29/29 [==============================] - 0s 12ms/step - loss: 3.3097 - val_loss: 3.6489\n",
      "Epoch 22/30\n",
      "29/29 [==============================] - 0s 11ms/step - loss: 3.2338 - val_loss: 3.5793\n",
      "Epoch 23/30\n",
      "29/29 [==============================] - 0s 12ms/step - loss: 3.3183 - val_loss: 3.5381\n",
      "Epoch 24/30\n",
      "29/29 [==============================] - 0s 11ms/step - loss: 3.4081 - val_loss: 3.6055\n",
      "Epoch 25/30\n",
      "29/29 [==============================] - 0s 11ms/step - loss: 3.2754 - val_loss: 3.6576\n",
      "Epoch 26/30\n",
      "29/29 [==============================] - 0s 11ms/step - loss: 3.3115 - val_loss: 3.5272\n",
      "Epoch 27/30\n",
      "29/29 [==============================] - 0s 11ms/step - loss: 3.3509 - val_loss: 3.6112\n",
      "Epoch 28/30\n",
      "29/29 [==============================] - 0s 11ms/step - loss: 3.4933 - val_loss: 3.5059\n",
      "Epoch 29/30\n",
      "29/29 [==============================] - 0s 12ms/step - loss: 3.2069 - val_loss: 3.6770\n",
      "Epoch 30/30\n",
      "29/29 [==============================] - 0s 11ms/step - loss: 3.2147 - val_loss: 3.5168\n",
      "Train: 3.224, Test: 3.517\n",
      "RMSE is  1.8753254248571232\n"
     ]
    },
    {
     "data": {
      "image/png": "[encoded data removed]",
      "text/plain": [
       "<Figure size 432x288 with 1 Axes>"
      ]
     },
     "metadata": {
      "needs_background": "light"
     },
     "output_type": "display_data"
    },
    {
     "name": "stdout",
     "output_type": "stream",
     "text": [
      "Train: 3.224, Test: 3.517\n",
      "RMSE is  1.8753254248571232\n"
     ]
    }
   ],
   "source": [
    "from sklearn.decomposition import PCA\n",
    "\n",
    "svd = PCA(n_components=5)\n",
    "\n",
    "X_train_svd=svd.fit_transform(X_train)\n",
    "X_test_svd=svd.fit_transform(X_test)\n",
    "\n",
    "n_cols = X_train_svd.shape[1]\n",
    "input_shape = (n_cols, )\n",
    "model = Sequential()\n",
    "model.add(Dense(300, activation='relu', input_shape = input_shape))\n",
    "model.add(Dense(300, activation='relu'))\n",
    "model.add(Dense(300, activation='relu'))\n",
    "model.add(Dense(300, activation='relu'))\n",
    "model.add(Dense(1, activation='linear'))\n",
    "model.summary()\n",
    "\n",
    "\n",
    "\n",
    "\n",
    "model.compile(optimizer = 'adam', loss = 'mse')\n",
    "\n",
    "\n",
    "#model.fit(X_train, y_train,  validation_split = .3, epochs = 30, batch_size=100,verbose=1,callbacks = [early_stopping_monitor])\n",
    "history = model.fit(X_train_svd, y_train, validation_data = (X_test_svd, y_test), epochs = 30, batch_size=100,verbose=1)\n",
    "\n",
    "y_pred= model.predict(X_test_svd)\n",
    "# evaluate the model\n",
    "train_mse = model.evaluate(X_train_svd, y_train, verbose=0)\n",
    "test_mse = model.evaluate(X_test_svd, y_test, verbose=0)\n",
    "print('Train: %.3f, Test: %.3f' % (train_mse, test_mse))\n",
    "rmse = np.sqrt(mean_squared_error(y_test, y_pred))\n",
    "print('RMSE is ', rmse)\n",
    "plt.title('loss/mean squared error')\n",
    "plt.plot(history.history['loss'], label = 'train')\n",
    "plt.plot(history.history['val_loss'], label='test')\n",
    "plt.legend()\n",
    "plt.show()\n",
    "\n",
    "print('Train: %.3f, Test: %.3f' % (train_mse, test_mse))\n",
    "print('RMSE is ', rmse)\n"
   ]
  },
  {
   "cell_type": "code",
   "execution_count": 58,
   "metadata": {},
   "outputs": [
    {
     "name": "stderr",
     "output_type": "stream",
     "text": [
      "C:\\Users\\weird\\anaconda3\\lib\\site-packages\\sklearn\\decomposition\\_nmf.py:312: FutureWarning: The 'init' value, when 'init=None' and n_components is less than n_samples and n_features, will be changed from 'nndsvd' to 'nndsvda' in 1.1 (renaming of 0.26).\n",
      "  warnings.warn((\"The 'init' value, when 'init=None' and \"\n",
      "C:\\Users\\weird\\anaconda3\\lib\\site-packages\\sklearn\\decomposition\\_nmf.py:312: FutureWarning: The 'init' value, when 'init=None' and n_components is less than n_samples and n_features, will be changed from 'nndsvd' to 'nndsvda' in 1.1 (renaming of 0.26).\n",
      "  warnings.warn((\"The 'init' value, when 'init=None' and \"\n"
     ]
    },
    {
     "name": "stdout",
     "output_type": "stream",
     "text": [
      "Model: \"sequential_33\"\n",
      "_________________________________________________________________\n",
      "Layer (type)                 Output Shape              Param #   \n",
      "=================================================================\n",
      "dense_165 (Dense)            (None, 300)               1800      \n",
      "_________________________________________________________________\n",
      "dense_166 (Dense)            (None, 300)               90300     \n",
      "_________________________________________________________________\n",
      "dense_167 (Dense)            (None, 300)               90300     \n",
      "_________________________________________________________________\n",
      "dense_168 (Dense)            (None, 300)               90300     \n",
      "_________________________________________________________________\n",
      "dense_169 (Dense)            (None, 1)                 301       \n",
      "=================================================================\n",
      "Total params: 273,001\n",
      "Trainable params: 273,001\n",
      "Non-trainable params: 0\n",
      "_________________________________________________________________\n",
      "Epoch 1/30\n",
      "29/29 [==============================] - 2s 33ms/step - loss: 72.0740 - val_loss: 9.1547\n",
      "Epoch 2/30\n",
      "29/29 [==============================] - 0s 12ms/step - loss: 7.5478 - val_loss: 6.5292\n",
      "Epoch 3/30\n",
      "29/29 [==============================] - 0s 13ms/step - loss: 4.8355 - val_loss: 4.5320\n",
      "Epoch 4/30\n",
      "29/29 [==============================] - 1s 20ms/step - loss: 4.1015 - val_loss: 4.3185\n",
      "Epoch 5/30\n",
      "29/29 [==============================] - 0s 15ms/step - loss: 3.7770 - val_loss: 4.8851\n",
      "Epoch 6/30\n",
      "29/29 [==============================] - 0s 12ms/step - loss: 3.6273 - val_loss: 5.3614\n",
      "Epoch 7/30\n",
      "29/29 [==============================] - 0s 11ms/step - loss: 3.7570 - val_loss: 5.3519\n",
      "Epoch 8/30\n",
      "29/29 [==============================] - 0s 11ms/step - loss: 3.5880 - val_loss: 4.2085\n",
      "Epoch 9/30\n",
      "29/29 [==============================] - 0s 11ms/step - loss: 3.5013 - val_loss: 4.9722\n",
      "Epoch 10/30\n",
      "29/29 [==============================] - 0s 11ms/step - loss: 3.4596 - val_loss: 4.0881\n",
      "Epoch 11/30\n",
      "29/29 [==============================] - 0s 11ms/step - loss: 3.5744 - val_loss: 4.2245\n",
      "Epoch 12/30\n",
      "29/29 [==============================] - 0s 11ms/step - loss: 3.4785 - val_loss: 4.6649\n",
      "Epoch 13/30\n",
      "29/29 [==============================] - 0s 13ms/step - loss: 3.3456 - val_loss: 4.7471\n",
      "Epoch 14/30\n",
      "29/29 [==============================] - 0s 12ms/step - loss: 3.5210 - val_loss: 5.5159\n",
      "Epoch 15/30\n",
      "29/29 [==============================] - 0s 12ms/step - loss: 3.1383 - val_loss: 5.7043\n",
      "Epoch 16/30\n",
      "29/29 [==============================] - 0s 13ms/step - loss: 3.4974 - val_loss: 5.0482\n",
      "Epoch 17/30\n",
      "29/29 [==============================] - 0s 12ms/step - loss: 3.5241 - val_loss: 4.3731\n",
      "Epoch 18/30\n",
      "29/29 [==============================] - 0s 11ms/step - loss: 3.3331 - val_loss: 4.3276\n",
      "Epoch 19/30\n",
      "29/29 [==============================] - 0s 11ms/step - loss: 3.2480 - val_loss: 5.3338\n",
      "Epoch 20/30\n",
      "29/29 [==============================] - 0s 11ms/step - loss: 3.6319 - val_loss: 5.1961\n",
      "Epoch 21/30\n",
      "29/29 [==============================] - 0s 11ms/step - loss: 3.3459 - val_loss: 3.8958\n",
      "Epoch 22/30\n",
      "29/29 [==============================] - 0s 11ms/step - loss: 3.4033 - val_loss: 4.2383\n",
      "Epoch 23/30\n",
      "29/29 [==============================] - 0s 12ms/step - loss: 3.6191 - val_loss: 3.6991\n",
      "Epoch 24/30\n",
      "29/29 [==============================] - 0s 14ms/step - loss: 3.5502 - val_loss: 4.3489\n",
      "Epoch 25/30\n",
      "29/29 [==============================] - 0s 13ms/step - loss: 3.4738 - val_loss: 6.4849\n",
      "Epoch 26/30\n",
      "29/29 [==============================] - 0s 12ms/step - loss: 3.4129 - val_loss: 4.5899\n",
      "Epoch 27/30\n",
      "29/29 [==============================] - 0s 13ms/step - loss: 3.3195 - val_loss: 5.4404\n",
      "Epoch 28/30\n",
      "29/29 [==============================] - 0s 11ms/step - loss: 3.2108 - val_loss: 5.4269\n",
      "Epoch 29/30\n",
      "29/29 [==============================] - 0s 11ms/step - loss: 3.3025 - val_loss: 5.4812\n",
      "Epoch 30/30\n",
      "29/29 [==============================] - 0s 11ms/step - loss: 3.3935 - val_loss: 5.3124\n",
      "Train: 3.427, Test: 5.312\n",
      "RMSE is  2.3048590927465584\n"
     ]
    },
    {
     "data": {
      "image/png": "[encoded data removed]",
      "text/plain": [
       "<Figure size 432x288 with 1 Axes>"
      ]
     },
     "metadata": {
      "needs_background": "light"
     },
     "output_type": "display_data"
    },
    {
     "name": "stdout",
     "output_type": "stream",
     "text": [
      "Train: 3.427, Test: 5.312\n",
      "RMSE is  2.3048590927465584\n"
     ]
    }
   ],
   "source": [
    "#from sklearn.decomposition import NMF\n",
    "#from sklearn.discriminant_analysis import LinearDiscriminantAnalysis as LDA\n",
    "# svd = LDA(n_components=5)\n",
    "svd = NMF(n_components = 5,  max_iter=7500)\n",
    "X_train_svd=svd.fit_transform(X_train)\n",
    "X_test_svd=svd.fit_transform(X_test)\n",
    "\n",
    "n_cols = X_train_svd.shape[1]\n",
    "input_shape = (n_cols, )\n",
    "model = Sequential()\n",
    "model.add(Dense(300, activation='relu', input_shape = input_shape))\n",
    "model.add(Dense(300, activation='relu'))\n",
    "model.add(Dense(300, activation='relu'))\n",
    "model.add(Dense(300, activation='relu'))\n",
    "model.add(Dense(1, activation='linear'))\n",
    "model.summary()\n",
    "\n",
    "\n",
    "\n",
    "\n",
    "model.compile(optimizer = 'adam', loss = 'mse')\n",
    "\n",
    "\n",
    "#model.fit(X_train, y_train,  validation_split = .3, epochs = 30, batch_size=100,verbose=1,callbacks = [early_stopping_monitor])\n",
    "history = model.fit(X_train_svd, y_train, validation_data = (X_test_svd, y_test), epochs = 30, batch_size=100,verbose=1)\n",
    "\n",
    "y_pred= model.predict(X_test_svd)\n",
    "# evaluate the model\n",
    "train_mse = model.evaluate(X_train_svd, y_train, verbose=0)\n",
    "test_mse = model.evaluate(X_test_svd, y_test, verbose=0)\n",
    "print('Train: %.3f, Test: %.3f' % (train_mse, test_mse))\n",
    "rmse = np.sqrt(mean_squared_error(y_test, y_pred))\n",
    "print('RMSE is ', rmse)\n",
    "plt.title('loss/mean squared error')\n",
    "plt.plot(history.history['loss'], label = 'train')\n",
    "plt.plot(history.history['val_loss'], label='test')\n",
    "plt.legend()\n",
    "plt.show()\n",
    "\n",
    "print('Train: %.3f, Test: %.3f' % (train_mse, test_mse))\n",
    "print('RMSE is ', rmse)\n"
   ]
  },
  {
   "cell_type": "code",
   "execution_count": 59,
   "metadata": {},
   "outputs": [
    {
     "name": "stdout",
     "output_type": "stream",
     "text": [
      "Model: \"sequential_34\"\n",
      "_________________________________________________________________\n",
      "Layer (type)                 Output Shape              Param #   \n",
      "=================================================================\n",
      "dense_170 (Dense)            (None, 300)               1800      \n",
      "_________________________________________________________________\n",
      "dense_171 (Dense)            (None, 300)               90300     \n",
      "_________________________________________________________________\n",
      "dense_172 (Dense)            (None, 300)               90300     \n",
      "_________________________________________________________________\n",
      "dense_173 (Dense)            (None, 300)               90300     \n",
      "_________________________________________________________________\n",
      "dense_174 (Dense)            (None, 1)                 301       \n",
      "=================================================================\n",
      "Total params: 273,001\n",
      "Trainable params: 273,001\n",
      "Non-trainable params: 0\n",
      "_________________________________________________________________\n",
      "Epoch 1/30\n",
      "29/29 [==============================] - 3s 36ms/step - loss: 67.5357 - val_loss: 12.7625\n",
      "Epoch 2/30\n",
      "29/29 [==============================] - 0s 13ms/step - loss: 11.6694 - val_loss: 7.7142\n",
      "Epoch 3/30\n",
      "29/29 [==============================] - 0s 13ms/step - loss: 6.7417 - val_loss: 5.6143\n",
      "Epoch 4/30\n",
      "29/29 [==============================] - 0s 14ms/step - loss: 5.0354 - val_loss: 5.2243\n",
      "Epoch 5/30\n",
      "29/29 [==============================] - 0s 13ms/step - loss: 4.7421 - val_loss: 5.2828\n",
      "Epoch 6/30\n",
      "29/29 [==============================] - 0s 13ms/step - loss: 4.7734 - val_loss: 5.0473\n",
      "Epoch 7/30\n",
      "29/29 [==============================] - 0s 14ms/step - loss: 4.6148 - val_loss: 4.8926\n",
      "Epoch 8/30\n",
      "29/29 [==============================] - 0s 12ms/step - loss: 4.6978 - val_loss: 4.8726\n",
      "Epoch 9/30\n",
      "29/29 [==============================] - 0s 12ms/step - loss: 4.6455 - val_loss: 5.0689\n",
      "Epoch 10/30\n",
      "29/29 [==============================] - 0s 12ms/step - loss: 4.5356 - val_loss: 4.9483\n",
      "Epoch 11/30\n",
      "29/29 [==============================] - 0s 12ms/step - loss: 4.5995 - val_loss: 4.9753\n",
      "Epoch 12/30\n",
      "29/29 [==============================] - 0s 12ms/step - loss: 4.8823 - val_loss: 5.0878\n",
      "Epoch 13/30\n",
      "29/29 [==============================] - 0s 12ms/step - loss: 4.5886 - val_loss: 5.0068\n",
      "Epoch 14/30\n",
      "29/29 [==============================] - 0s 12ms/step - loss: 4.5017 - val_loss: 4.8765\n",
      "Epoch 15/30\n",
      "29/29 [==============================] - 0s 11ms/step - loss: 4.5005 - val_loss: 4.9286\n",
      "Epoch 16/30\n",
      "29/29 [==============================] - 0s 13ms/step - loss: 4.6063 - val_loss: 4.8872\n",
      "Epoch 17/30\n",
      "29/29 [==============================] - 0s 14ms/step - loss: 4.4422 - val_loss: 4.9579\n",
      "Epoch 18/30\n",
      "29/29 [==============================] - 0s 13ms/step - loss: 4.6028 - val_loss: 4.8367\n",
      "Epoch 19/30\n",
      "29/29 [==============================] - 0s 13ms/step - loss: 4.8488 - val_loss: 5.7161\n",
      "Epoch 20/30\n",
      "29/29 [==============================] - 0s 14ms/step - loss: 4.9844 - val_loss: 4.8489\n",
      "Epoch 21/30\n",
      "29/29 [==============================] - 0s 12ms/step - loss: 4.5475 - val_loss: 4.9243\n",
      "Epoch 22/30\n",
      "29/29 [==============================] - 0s 12ms/step - loss: 4.7327 - val_loss: 4.9961\n",
      "Epoch 23/30\n",
      "29/29 [==============================] - 0s 11ms/step - loss: 4.3498 - val_loss: 4.8709\n",
      "Epoch 24/30\n",
      "29/29 [==============================] - 0s 10ms/step - loss: 4.6498 - val_loss: 5.2633\n",
      "Epoch 25/30\n",
      "29/29 [==============================] - 0s 11ms/step - loss: 4.7583 - val_loss: 5.0169\n",
      "Epoch 26/30\n",
      "29/29 [==============================] - 0s 10ms/step - loss: 4.6067 - val_loss: 4.8788\n",
      "Epoch 27/30\n",
      "29/29 [==============================] - ETA: 0s - loss: 4.796 - 0s 11ms/step - loss: 4.7823 - val_loss: 5.0525\n",
      "Epoch 28/30\n",
      "29/29 [==============================] - 0s 11ms/step - loss: 4.6263 - val_loss: 5.5510\n",
      "Epoch 29/30\n",
      "29/29 [==============================] - 0s 10ms/step - loss: 4.8410 - val_loss: 4.8640\n",
      "Epoch 30/30\n",
      "29/29 [==============================] - 0s 12ms/step - loss: 4.9654 - val_loss: 5.4449\n",
      "Train: 4.734, Test: 5.445\n",
      "RMSE is  2.333422617105636\n"
     ]
    },
    {
     "data": {
      "image/png": "[encoded data removed]",
      "text/plain": [
       "<Figure size 432x288 with 1 Axes>"
      ]
     },
     "metadata": {
      "needs_background": "light"
     },
     "output_type": "display_data"
    },
    {
     "name": "stdout",
     "output_type": "stream",
     "text": [
      "Train: 4.734, Test: 5.445\n",
      "RMSE is  2.333422617105636\n"
     ]
    }
   ],
   "source": [
    "#from sklearn.decomposition import NMF\n",
    "#from sklearn.discriminant_analysis import LinearDiscriminantAnalysis as LDA\n",
    "# svd = LDA(n_components=5)\n",
    "from sklearn.manifold import Isomap\n",
    "\n",
    "svd = Isomap(n_components = 5)\n",
    "X_train_svd=svd.fit_transform(X_train)\n",
    "X_test_svd=svd.fit_transform(X_test)\n",
    "\n",
    "n_cols = X_train_svd.shape[1]\n",
    "input_shape = (n_cols, )\n",
    "model = Sequential()\n",
    "model.add(Dense(300, activation='relu', input_shape = input_shape))\n",
    "model.add(Dense(300, activation='relu'))\n",
    "model.add(Dense(300, activation='relu'))\n",
    "model.add(Dense(300, activation='relu'))\n",
    "model.add(Dense(1, activation='linear'))\n",
    "model.summary()\n",
    "\n",
    "\n",
    "\n",
    "\n",
    "model.compile(optimizer = 'adam', loss = 'mse')\n",
    "\n",
    "\n",
    "#model.fit(X_train, y_train,  validation_split = .3, epochs = 30, batch_size=100,verbose=1,callbacks = [early_stopping_monitor])\n",
    "history = model.fit(X_train_svd, y_train, validation_data = (X_test_svd, y_test), epochs = 30, batch_size=100,verbose=1)\n",
    "\n",
    "y_pred= model.predict(X_test_svd)\n",
    "# evaluate the model\n",
    "train_mse = model.evaluate(X_train_svd, y_train, verbose=0)\n",
    "test_mse = model.evaluate(X_test_svd, y_test, verbose=0)\n",
    "print('Train: %.3f, Test: %.3f' % (train_mse, test_mse))\n",
    "rmse = np.sqrt(mean_squared_error(y_test, y_pred))\n",
    "print('RMSE is ', rmse)\n",
    "plt.title('loss/mean squared error')\n",
    "plt.plot(history.history['loss'], label = 'train')\n",
    "plt.plot(history.history['val_loss'], label='test')\n",
    "plt.legend()\n",
    "plt.show()\n",
    "\n",
    "print('Train: %.3f, Test: %.3f' % (train_mse, test_mse))\n",
    "print('RMSE is ', rmse)\n"
   ]
  },
  {
   "cell_type": "markdown",
   "metadata": {},
   "source": [
    "Write a function that will indicate if an inputted IPv4 address is accurate or not.\n",
    "IP addresses are valid if they have 4 values between 0 and 255 (inclusive), punctuated\n",
    "by periods.\n",
    "\n",
    "Input 1:\n",
    "\n",
    "2.33.245.5\n",
    "\n",
    "Output 1:\n",
    "\n",
    "True\n",
    "\n",
    "Input 2:\n",
    "\n",
    "12.345.67.89\n",
    "\n",
    "Output 2:\n",
    "\n",
    "False"
   ]
  },
  {
   "cell_type": "code",
   "execution_count": 101,
   "metadata": {},
   "outputs": [],
   "source": [
    "\n",
    "def validate(address):\n",
    "  #  address = str(address)\n",
    "    print(address)\n",
    "    chunks = address.split('.')\n",
    "    for x in chunks:\n",
    "        if int(x)<0:\n",
    "            return False\n",
    "        if int(x)>255:\n",
    "            return False\n",
    "        if len(chunks) != 4:\n",
    "            return False\n",
    "        else:\n",
    "            continue\n",
    "\n",
    "    return True"
   ]
  },
  {
   "cell_type": "code",
   "execution_count": 102,
   "metadata": {},
   "outputs": [
    {
     "name": "stdout",
     "output_type": "stream",
     "text": [
      "2.33.245.5\n"
     ]
    },
    {
     "data": {
      "text/plain": [
       "True"
      ]
     },
     "execution_count": 102,
     "metadata": {},
     "output_type": "execute_result"
    }
   ],
   "source": [
    "validate('2.33.245.5')"
   ]
  },
  {
   "cell_type": "code",
   "execution_count": 107,
   "metadata": {},
   "outputs": [
    {
     "name": "stdout",
     "output_type": "stream",
     "text": [
      "12.345.67.89\n"
     ]
    },
    {
     "data": {
      "text/plain": [
       "False"
      ]
     },
     "execution_count": 107,
     "metadata": {},
     "output_type": "execute_result"
    }
   ],
   "source": [
    "validate('12.345.67.89')"
   ]
  },
  {
   "cell_type": "code",
   "execution_count": 104,
   "metadata": {},
   "outputs": [
    {
     "name": "stdout",
     "output_type": "stream",
     "text": [
      "1321316546545\n"
     ]
    },
    {
     "data": {
      "text/plain": [
       "False"
      ]
     },
     "execution_count": 104,
     "metadata": {},
     "output_type": "execute_result"
    }
   ],
   "source": [
    "validate('1321316546545')"
   ]
  },
  {
   "cell_type": "code",
   "execution_count": 108,
   "metadata": {},
   "outputs": [
    {
     "name": "stdout",
     "output_type": "stream",
     "text": [
      "12.111.255.89\n"
     ]
    },
    {
     "data": {
      "text/plain": [
       "True"
      ]
     },
     "execution_count": 108,
     "metadata": {},
     "output_type": "execute_result"
    }
   ],
   "source": [
    "validate('12.111.255.89')"
   ]
  },
  {
   "cell_type": "code",
   "execution_count": 109,
   "metadata": {},
   "outputs": [
    {
     "name": "stdout",
     "output_type": "stream",
     "text": [
      "-12.111.255.89\n"
     ]
    },
    {
     "data": {
      "text/plain": [
       "False"
      ]
     },
     "execution_count": 109,
     "metadata": {},
     "output_type": "execute_result"
    }
   ],
   "source": [
    "validate('-12.111.255.89')"
   ]
  },
  {
   "cell_type": "code",
   "execution_count": null,
   "metadata": {},
   "outputs": [],
   "source": []
  },
  {
   "cell_type": "code",
   "execution_count": null,
   "metadata": {},
   "outputs": [],
   "source": []
  }
 ],
 "metadata": {
  "kernelspec": {
   "display_name": "Python 3",
   "language": "python",
   "name": "python3"
  },
  "language_info": {
   "codemirror_mode": {
    "name": "ipython",
    "version": 3
   },
   "file_extension": ".py",
   "mimetype": "text/x-python",
   "name": "python",
   "nbconvert_exporter": "python",
   "pygments_lexer": "ipython3",
   "version": "3.8.5"
  }
 },
 "nbformat": 4,
 "nbformat_minor": 4
}
