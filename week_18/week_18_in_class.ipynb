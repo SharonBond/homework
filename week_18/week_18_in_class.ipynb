{
 "cells": [
  {
   "cell_type": "markdown",
   "metadata": {},
   "source": [
    "Look up the Adam optimization functions in PyTorch\n",
    "https://pytorch.org/docs/stable/optim.html . How does it work? Try at least one other\n",
    "optimization function with the diabetes dataset shown in class. How does the model\n",
    "perform with the new optimizer? Did it perform better or worse than Adam? Why do you\n",
    "think that is?\n",
    "\n",
    "\n",
    "How does Adam work? \n",
    "It adjusts the learning rate as it does gradient descent, to ensure reasonable values throughout the weight optimization process. \n",
    "\n",
    "Out of the ones tested, Rprop had the best performance. Possibly it worked better in this situation because the parameters were more specific than for Adam. According to datacamp Adam is supposed to be the 'go to' for optimization so I'm a little surprised we were able to do better. I guess it isn't always the best case or else the others wouldn't exist. "
   ]
  },
  {
   "cell_type": "code",
   "execution_count": 63,
   "metadata": {},
   "outputs": [
    {
     "data": {
      "text/html": [
       "<div>\n",
       "<style scoped>\n",
       "    .dataframe tbody tr th:only-of-type {\n",
       "        vertical-align: middle;\n",
       "    }\n",
       "\n",
       "    .dataframe tbody tr th {\n",
       "        vertical-align: top;\n",
       "    }\n",
       "\n",
       "    .dataframe thead th {\n",
       "        text-align: right;\n",
       "    }\n",
       "</style>\n",
       "<table border=\"1\" class=\"dataframe\">\n",
       "  <thead>\n",
       "    <tr style=\"text-align: right;\">\n",
       "      <th></th>\n",
       "      <th>Pregnancies</th>\n",
       "      <th>Glucose</th>\n",
       "      <th>BloodPressure</th>\n",
       "      <th>SkinThickness</th>\n",
       "      <th>Insulin</th>\n",
       "      <th>BMI</th>\n",
       "      <th>DiabetesPedigreeFunction</th>\n",
       "      <th>Age</th>\n",
       "      <th>Outcome</th>\n",
       "    </tr>\n",
       "  </thead>\n",
       "  <tbody>\n",
       "    <tr>\n",
       "      <th>0</th>\n",
       "      <td>6</td>\n",
       "      <td>148</td>\n",
       "      <td>72</td>\n",
       "      <td>35</td>\n",
       "      <td>0</td>\n",
       "      <td>33.6</td>\n",
       "      <td>0.627</td>\n",
       "      <td>50</td>\n",
       "      <td>1</td>\n",
       "    </tr>\n",
       "    <tr>\n",
       "      <th>1</th>\n",
       "      <td>1</td>\n",
       "      <td>85</td>\n",
       "      <td>66</td>\n",
       "      <td>29</td>\n",
       "      <td>0</td>\n",
       "      <td>26.6</td>\n",
       "      <td>0.351</td>\n",
       "      <td>31</td>\n",
       "      <td>0</td>\n",
       "    </tr>\n",
       "    <tr>\n",
       "      <th>2</th>\n",
       "      <td>8</td>\n",
       "      <td>183</td>\n",
       "      <td>64</td>\n",
       "      <td>0</td>\n",
       "      <td>0</td>\n",
       "      <td>23.3</td>\n",
       "      <td>0.672</td>\n",
       "      <td>32</td>\n",
       "      <td>1</td>\n",
       "    </tr>\n",
       "    <tr>\n",
       "      <th>3</th>\n",
       "      <td>1</td>\n",
       "      <td>89</td>\n",
       "      <td>66</td>\n",
       "      <td>23</td>\n",
       "      <td>94</td>\n",
       "      <td>28.1</td>\n",
       "      <td>0.167</td>\n",
       "      <td>21</td>\n",
       "      <td>0</td>\n",
       "    </tr>\n",
       "    <tr>\n",
       "      <th>4</th>\n",
       "      <td>0</td>\n",
       "      <td>137</td>\n",
       "      <td>40</td>\n",
       "      <td>35</td>\n",
       "      <td>168</td>\n",
       "      <td>43.1</td>\n",
       "      <td>2.288</td>\n",
       "      <td>33</td>\n",
       "      <td>1</td>\n",
       "    </tr>\n",
       "  </tbody>\n",
       "</table>\n",
       "</div>"
      ],
      "text/plain": [
       "   Pregnancies  Glucose  BloodPressure  SkinThickness  Insulin   BMI  \\\n",
       "0            6      148             72             35        0  33.6   \n",
       "1            1       85             66             29        0  26.6   \n",
       "2            8      183             64              0        0  23.3   \n",
       "3            1       89             66             23       94  28.1   \n",
       "4            0      137             40             35      168  43.1   \n",
       "\n",
       "   DiabetesPedigreeFunction  Age  Outcome  \n",
       "0                     0.627   50        1  \n",
       "1                     0.351   31        0  \n",
       "2                     0.672   32        1  \n",
       "3                     0.167   21        0  \n",
       "4                     2.288   33        1  "
      ]
     },
     "execution_count": 63,
     "metadata": {},
     "output_type": "execute_result"
    }
   ],
   "source": [
    "import pandas as pd\n",
    "import torch\n",
    "\n",
    "diabetes_df = pd.read_csv(\"diabetes.csv\")\n",
    "diabetes_df.head()"
   ]
  },
  {
   "cell_type": "code",
   "execution_count": 64,
   "metadata": {},
   "outputs": [],
   "source": [
    "from sklearn.model_selection import train_test_split\n",
    "from sklearn.preprocessing import StandardScaler\n",
    "\n",
    "X = diabetes_df.drop('Outcome', axis=1).values\n",
    "y = diabetes_df['Outcome'].values\n",
    "\n",
    "# Split into training and test set\n",
    "X_train, X_test, y_train, y_test = train_test_split(X, y, test_size = 0.2, random_state=42, stratify=y)\n",
    "\n",
    "# #Standardize\n",
    "sc= StandardScaler()\n",
    "X_train=sc.fit_transform(X_train)\n",
    "X_test=sc.fit_transform(X_test)"
   ]
  },
  {
   "cell_type": "code",
   "execution_count": 65,
   "metadata": {},
   "outputs": [
    {
     "name": "stdout",
     "output_type": "stream",
     "text": [
      "tensor([[-0.8514, -0.9801, -0.4048,  ..., -0.6077,  0.3108, -0.7922],\n",
      "        [ 0.3566,  0.1614,  0.4654,  ..., -0.3021, -0.1164,  0.5610],\n",
      "        [-0.5494, -0.5045, -0.6223,  ...,  0.3726, -0.7649, -0.7076],\n",
      "        ...,\n",
      "        [-0.8514, -0.7582,  0.0303,  ...,  0.7800, -0.7861, -0.2847],\n",
      "        [ 1.8665, -0.3142,  0.0303,  ..., -0.5695, -1.0194,  0.5610],\n",
      "        [ 0.0546,  0.7322, -0.6223,  ..., -0.3149, -0.5770,  0.3073]])\n"
     ]
    }
   ],
   "source": [
    "import torch.nn as nn\n",
    "import torch.nn.functional as F #this has activation functions\n",
    "\n",
    "# Creating tensors\n",
    "X_train = torch.FloatTensor(X_train)\n",
    "X_test = torch.FloatTensor(X_test)\n",
    "\n",
    "y_train = torch.LongTensor(y_train)\n",
    "y_test = torch.LongTensor(y_test)\n",
    "\n",
    "print(X_train)"
   ]
  },
  {
   "cell_type": "code",
   "execution_count": 66,
   "metadata": {},
   "outputs": [],
   "source": [
    "class ANN_Model(nn.Module):\n",
    "    def __init__(self, input_features=8, hidden1=20, hidden2=20, out_features =2):\n",
    "        super().__init__()\n",
    "        self.layer_1_connection = nn.Linear(input_features, hidden1)\n",
    "        self.layer_2_connection = nn.Linear(hidden1, hidden2)\n",
    "        self.out = nn.Linear(hidden2, out_features)\n",
    "    \n",
    "    def forward(self, x):\n",
    "        #apply activation functions\n",
    "        x = F.relu(self.layer_1_connection(x))\n",
    "        x = F.relu(self.layer_2_connection(x))\n",
    "        x = self.out(x)\n",
    "        return x"
   ]
  },
  {
   "cell_type": "code",
   "execution_count": 67,
   "metadata": {},
   "outputs": [],
   "source": [
    "torch.manual_seed(42)\n",
    "\n",
    "#instantiate the model\n",
    "model = ANN_Model()"
   ]
  },
  {
   "cell_type": "code",
   "execution_count": 68,
   "metadata": {},
   "outputs": [],
   "source": [
    "# loss function\n",
    "loss_function = nn.CrossEntropyLoss()\n",
    "\n",
    "#optimizer\n",
    "#ptimizer = torch.optim.Adam(model.parameters(), lr = 0.01)\n",
    "#optimizer = torch.optim.Adadelta(model.parameters(), lr=1.0, rho=0.9, eps=1e-06, weight_decay=0)\n",
    "#optimizer = torch.optim.LBFGS(model.parameters(), lr=1, max_iter=20, max_eval=None, tolerance_grad=1e-07, tolerance_change=1e-09, history_size=100, line_search_fn=None) #doesn't work for this\n",
    "#optimizer = torch.optim.SparseAdam(model.parameters(), lr=0.001, betas=(0.9, 0.999), eps=1e-08) #sparseAdam doesn't work\n",
    "#optimizer = torch.optim.SGD(model.parameters(), lr= 1, momentum=0, dampening=0, weight_decay=0, nesterov=False)\n",
    "optimizer = torch.optim.Rprop(model.parameters(), lr=0.01, etas=(0.5, 1.2), step_sizes=(1e-06, 50))"
   ]
  },
  {
   "cell_type": "code",
   "execution_count": 69,
   "metadata": {},
   "outputs": [
    {
     "name": "stdout",
     "output_type": "stream",
     "text": [
      "Epoch number: 1 with loss: 0.647413969039917\n",
      "Epoch number: 11 with loss: 0.4519883096218109\n",
      "Epoch number: 21 with loss: 0.38703450560569763\n",
      "Epoch number: 31 with loss: 0.3395463526248932\n",
      "Epoch number: 41 with loss: 0.30658775568008423\n",
      "Epoch number: 51 with loss: 0.2752005457878113\n",
      "Epoch number: 61 with loss: 0.25215277075767517\n",
      "Epoch number: 71 with loss: 0.22651635110378265\n",
      "Epoch number: 81 with loss: 0.20444045960903168\n",
      "Epoch number: 91 with loss: 0.1857936829328537\n",
      "Epoch number: 101 with loss: 0.17048323154449463\n",
      "Epoch number: 111 with loss: 0.1541174352169037\n",
      "Epoch number: 121 with loss: 0.13827121257781982\n",
      "Epoch number: 131 with loss: 0.1239677220582962\n",
      "Epoch number: 141 with loss: 0.11416149139404297\n",
      "Epoch number: 151 with loss: 0.10690716654062271\n",
      "Epoch number: 161 with loss: 0.10015998780727386\n",
      "Epoch number: 171 with loss: 0.09251970052719116\n",
      "Epoch number: 181 with loss: 0.08521825820207596\n",
      "Epoch number: 191 with loss: 0.07992039620876312\n",
      "Epoch number: 201 with loss: 0.07561813294887543\n",
      "Epoch number: 211 with loss: 0.071459099650383\n",
      "Epoch number: 221 with loss: 0.06749683618545532\n",
      "Epoch number: 231 with loss: 0.06302603334188461\n",
      "Epoch number: 241 with loss: 0.058605462312698364\n",
      "Epoch number: 251 with loss: 0.0547657310962677\n",
      "Epoch number: 261 with loss: 0.05172473564743996\n",
      "Epoch number: 271 with loss: 0.04877890273928642\n",
      "Epoch number: 281 with loss: 0.04568939283490181\n",
      "Epoch number: 291 with loss: 0.04181557148694992\n",
      "Epoch number: 301 with loss: 0.03855603188276291\n",
      "Epoch number: 311 with loss: 0.0350491926074028\n",
      "Epoch number: 321 with loss: 0.03167913481593132\n",
      "Epoch number: 331 with loss: 0.02730717882514\n",
      "Epoch number: 341 with loss: 0.0252988338470459\n",
      "Epoch number: 351 with loss: 0.023311330005526543\n",
      "Epoch number: 361 with loss: 0.02031552419066429\n",
      "Epoch number: 371 with loss: 0.01821483112871647\n",
      "Epoch number: 381 with loss: 0.015864631161093712\n",
      "Epoch number: 391 with loss: 0.014110509306192398\n",
      "Epoch number: 401 with loss: 0.013705242425203323\n",
      "Epoch number: 411 with loss: 0.011415421962738037\n",
      "Epoch number: 421 with loss: 0.009891643188893795\n",
      "Epoch number: 431 with loss: 0.009150614961981773\n",
      "Epoch number: 441 with loss: 0.008363544009625912\n",
      "Epoch number: 451 with loss: 0.007395508233457804\n",
      "Epoch number: 461 with loss: 0.006256405729800463\n",
      "Epoch number: 471 with loss: 0.0055076186545193195\n",
      "Epoch number: 481 with loss: 0.004763168748468161\n",
      "Epoch number: 491 with loss: 0.022943416610360146\n"
     ]
    }
   ],
   "source": [
    "#run model through multiple epochs/iterations\n",
    "final_loss = []\n",
    "n_epochs = 500\n",
    "for epoch in range(n_epochs):\n",
    "    y_pred = model.forward(X_train)\n",
    "    loss = loss_function(y_pred, y_train)\n",
    "    final_loss.append(loss)\n",
    "    \n",
    "    if epoch % 10 == 1:\n",
    "        print(f'Epoch number: {epoch} with loss: {loss.item()}')\n",
    "    \n",
    "    optimizer.zero_grad() #zero the gradient before running backwards propagation\n",
    "    loss.backward() #for backward propagation \n",
    "    optimizer.step() #performs one optimization step each epoch"
   ]
  },
  {
   "cell_type": "code",
   "execution_count": 70,
   "metadata": {},
   "outputs": [],
   "source": [
    "\n",
    "#predictions\n",
    "y_pred = []\n",
    "\n",
    "with torch.no_grad():\n",
    "    for i, data in enumerate(X_test):\n",
    "        prediction = model(data)\n",
    "        y_pred.append(prediction.argmax().item())\n",
    "\n",
    "\n"
   ]
  },
  {
   "cell_type": "code",
   "execution_count": 71,
   "metadata": {},
   "outputs": [
    {
     "name": "stdout",
     "output_type": "stream",
     "text": [
      "0.7142857142857143\n"
     ]
    }
   ],
   "source": [
    "from sklearn.metrics import accuracy_score\n",
    "a_score = accuracy_score(y_test, y_pred)\n",
    "print(a_score)\n",
    "#Adam = 0.6948051948051948\n",
    "#adadelta with default parameters .7077922077922078\n",
    "#SGD .6818181818\n",
    "#final wiht Rprop = .7142857"
   ]
  },
  {
   "cell_type": "code",
   "execution_count": 72,
   "metadata": {},
   "outputs": [
    {
     "name": "stdout",
     "output_type": "stream",
     "text": [
      "              precision    recall  f1-score   support\n",
      "\n",
      "           0       0.79      0.77      0.78       100\n",
      "           1       0.59      0.61      0.60        54\n",
      "\n",
      "    accuracy                           0.71       154\n",
      "   macro avg       0.69      0.69      0.69       154\n",
      "weighted avg       0.72      0.71      0.72       154\n",
      "\n"
     ]
    }
   ],
   "source": [
    "from sklearn.metrics import classification_report\n",
    "\n",
    "print(classification_report(y_test, y_pred))\n",
    "\n",
    "#Adam macro av =  .67 .68 .67\n",
    "#adam weighted av = .7 .69 .7\n",
    "\n",
    "\n",
    "#adadelta with default parameters macro av .68  .69  .68\n",
    "#adadelta with default parameters weighted av .71 .71  .71\n",
    "\n",
    "#SGD macro av .67  .68  .67\n",
    "# SGD weighted avg .70 .68  .69\n",
    "\n",
    "#final result with Rprop below"
   ]
  },
  {
   "cell_type": "code",
   "execution_count": null,
   "metadata": {},
   "outputs": [],
   "source": []
  },
  {
   "cell_type": "code",
   "execution_count": null,
   "metadata": {},
   "outputs": [],
   "source": []
  },
  {
   "cell_type": "code",
   "execution_count": null,
   "metadata": {},
   "outputs": [],
   "source": []
  },
  {
   "cell_type": "markdown",
   "metadata": {},
   "source": [
    "Write a function that lists and counts the number of divisors for an input value.\n",
    "\n",
    "Example 1:\n",
    "\n",
    "Input: 5\n",
    "\n",
    "Output: “There are 2 divisors: 1 and 5”\n",
    "\n",
    "Example 2:\n",
    "\n",
    "Input: 40\n",
    "\n",
    "Output: “There are 8 divisors: 1, 2, 4, 5, 8, 10, 20, and 40"
   ]
  },
  {
   "cell_type": "code",
   "execution_count": 147,
   "metadata": {
    "collapsed": true
   },
   "outputs": [
    {
     "data": {
      "text/plain": [
       "'def prime(x):\\n    if x >= 2:\\n        for y in range(2,x):\\n            if not ( x % y ):\\n                return False\\n    else:\\n        return False\\n    return True\\nprime(0)'"
      ]
     },
     "execution_count": 147,
     "metadata": {},
     "output_type": "execute_result"
    }
   ],
   "source": []
  },
  {
   "cell_type": "code",
   "execution_count": null,
   "metadata": {},
   "outputs": [],
   "source": []
  },
  {
   "cell_type": "code",
   "execution_count": 171,
   "metadata": {},
   "outputs": [
    {
     "name": "stdout",
     "output_type": "stream",
     "text": [
      "There are 6 divisors: 1, 2, 4, 11, 22 and 44\n"
     ]
    }
   ],
   "source": [
    "def divise_me(n): \n",
    "    divisor_list= []\n",
    "    numbers = [x for x in range(n+1)]\n",
    "    if n == 1: \n",
    "        return print('The only divisor for 1 is itself. ')\n",
    "        \n",
    "    for number in numbers:\n",
    "        if number == 0:\n",
    "            continue\n",
    "        #elif number == 1: \n",
    "         #  print(\"The only divisor is itself\")\n",
    "        if n%number == 0:\n",
    "            divisor_list.append(number)\n",
    "    #end = ', '.join([str(x) for x in divisor_list]) + ' and ' + str(divisor_list[-1]) - have to slice the divisor list the first time \n",
    "    # or it gives you the entire list and you don't get the and in there. \n",
    "    end = ', '.join([str(n) for n in divisor_list[0:-1]]) + ' and ' + str(divisor_list[-1])    \n",
    "    return print(\"There are \" + str(len(divisor_list)) + \" divisors: \" + end)\n",
    "    print(num_list)\n",
    "\n",
    "\n",
    "divise_me(44)"
   ]
  },
  {
   "cell_type": "code",
   "execution_count": 172,
   "metadata": {},
   "outputs": [
    {
     "name": "stdout",
     "output_type": "stream",
     "text": [
      "The only divisor for 1 is itself. \n"
     ]
    }
   ],
   "source": [
    "divise_me(1)"
   ]
  },
  {
   "cell_type": "code",
   "execution_count": 174,
   "metadata": {},
   "outputs": [
    {
     "name": "stdout",
     "output_type": "stream",
     "text": [
      "There are 8 divisors: 1, 2, 4, 8, 11, 22, 44 and 88\n"
     ]
    }
   ],
   "source": [
    "divise_me(88)"
   ]
  },
  {
   "cell_type": "code",
   "execution_count": 175,
   "metadata": {},
   "outputs": [
    {
     "name": "stdout",
     "output_type": "stream",
     "text": [
      "There are 4 divisors: 1, 2, 4 and 8\n"
     ]
    }
   ],
   "source": [
    "divise_me(8)"
   ]
  },
  {
   "cell_type": "code",
   "execution_count": 177,
   "metadata": {},
   "outputs": [
    {
     "name": "stdout",
     "output_type": "stream",
     "text": [
      "There are 2 divisors: 1 and 5\n"
     ]
    }
   ],
   "source": [
    "divise_me(5)"
   ]
  },
  {
   "cell_type": "code",
   "execution_count": 178,
   "metadata": {},
   "outputs": [
    {
     "name": "stdout",
     "output_type": "stream",
     "text": [
      "There are 8 divisors: 1, 2, 4, 5, 8, 10, 20 and 40\n"
     ]
    }
   ],
   "source": [
    "divise_me(40)"
   ]
  },
  {
   "cell_type": "code",
   "execution_count": null,
   "metadata": {},
   "outputs": [],
   "source": []
  },
  {
   "cell_type": "code",
   "execution_count": null,
   "metadata": {},
   "outputs": [],
   "source": []
  }
 ],
 "metadata": {
  "kernelspec": {
   "display_name": "Python 3",
   "language": "python",
   "name": "python3"
  },
  "language_info": {
   "codemirror_mode": {
    "name": "ipython",
    "version": 3
   },
   "file_extension": ".py",
   "mimetype": "text/x-python",
   "name": "python",
   "nbconvert_exporter": "python",
   "pygments_lexer": "ipython3",
   "version": "3.8.5"
  }
 },
 "nbformat": 4,
 "nbformat_minor": 4
}
